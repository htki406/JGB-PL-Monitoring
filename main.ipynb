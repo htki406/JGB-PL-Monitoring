{
 "cells": [
  {
   "cell_type": "markdown",
   "id": "e966a6ab",
   "metadata": {},
   "source": [
    "# 日本国債損益モニタリング\n",
    "\n",
    "## 概要\n",
    "\n",
    "日本国債の時価を計算し，各基準日の損益をExcelで集計するツールである．\n",
    "\n",
    "財務省が公表している日本国債（以下，単に国債）の入札結果をもとに，2024年4月から2025年3月までの月次で仮想の国債ポジション明細を作成する．明細は国債の新規購入・中途売却・満期償還も含む．\n",
    "\n",
    "次に**財務省が日次で公表している国債の最終利回りから，QuantLib-PythonのFixedRateBondHelperクラスを用いて割引カーブを引く**．この時，元データの最終利回りについて以下を仮定する：\n",
    "\n",
    "- 各年限グリッドごとに選定する代表銘柄はパー価格である，\n",
    "    - ３年の最終利回りを計算する際に用いる残存3年の5年債の価格が100円である，\n",
    "- 半年複利ベースの最終利回りを上記パー債の半年単利クーポンレートで近似できる．\n",
    "\n",
    "ポシションを割引いて**時価と修正デュレーションを計算し**，明細に追加してcsvファイルとして出力する．\n",
    "\n",
    "時価情報が追加された明細をPower BIに取り込み、評価損益をテーブル形式で集計する．テーブルには以下の項目を載せ，断面の時点をタイル形式で選択できるようにする。\n",
    "\n",
    "**2024年12月 断面**\n",
    "\n",
    "| 分類 | 銘柄名 | 簿価残高 | クーポン | 残存年限 | 修正Dur | 評価損益 | 評価損益_前Q比 | 実現損益 | 総合損益 | 評価損益_前Q |\n",
    "| --- | --- | ---: | ---: | ---: | ---: | ---: | ---: | ---: | ---: | ---: |\n",
    "| **短期** | 第448回利付国庫債券（2年） | 300 | 0.04% | 0.34| 0.32 | ▲0 | ▲0 | | ▲0 | ▲0 |\n",
    "| **中期** | 第142回利付国庫債券（5年） | | | | | | | ▲10 | ▲10 | ▲10|\n",
    "| | 第153回利付国庫債券（5年） | 10,000 | 0.04% | 2.47 | 2.45 | ▲138 | ▲45 | | ▲45 | ▲93 |\n",
    "| | 第169回利付国庫債券（5年） | 1,400 | 0.51% | 4.22 | 4.15 | ▲9 | ▲11 | | ▲11 | 3 |\n",
    "| | 第170回利付国庫債券（5年） | 500 | 0.61% | 4.47 | 4.39 | ▲2 | ▲6 | | ▲6 | 3 |\n",
    "| **長期** | 第347回利付国庫債券（10年） | 10,000 | 0.07% | 2.47 | 2.45 | ▲65 | ▲23 | | ▲23 | ▲41 |\n",
    "| | 第375回利付国庫債券（10年） | 10,000 | 0.29% | 9.47 | 9.03 | ▲13 | ▲18 | | ▲18 | 6 |\n",
    "| **超長期** | 第95回利付国庫債券（20年） | 5,000 | 2.29% | 2.47 | 2.40 | 422 | ▲158 | | ▲158 | 580 |\n",
    "| | 第145回利付国庫債券（20年） | 1,000 | 1.69% | 8.47 | 7.89 | 601 | ▲251 | | ▲251 | 852 |\n",
    "| 合計 | | 38,200 | 1.11% | 4.30 | 4.10 | 797 | ▲512 | ▲10 | ▲522 | 1,300 |\n"
   ]
  },
  {
   "cell_type": "markdown",
   "id": "9885c26c",
   "metadata": {},
   "source": [
    "## 実装"
   ]
  },
  {
   "cell_type": "markdown",
   "id": "19a0f123",
   "metadata": {},
   "source": [
    "### ライブラリインポート"
   ]
  },
  {
   "cell_type": "code",
   "execution_count": null,
   "id": "4f09eb2c",
   "metadata": {},
   "outputs": [],
   "source": [
    "import re #和暦→西暦変換用\n",
    "\n",
    "import matplotlib.pyplot as plt\n",
    "import numpy as np\n",
    "import pandas as pd\n",
    "import QuantLib as ql"
   ]
  },
  {
   "cell_type": "markdown",
   "id": "14679ed1",
   "metadata": {},
   "source": [
    "### 仮想の国債ポジション明細データの読み込み"
   ]
  },
  {
   "cell_type": "code",
   "execution_count": null,
   "id": "ce3821c6",
   "metadata": {},
   "outputs": [],
   "source": [
    "historical_meisai = pd.read_csv('Input//raw//日本国債明細.csv')\n",
    "historical_meisai['基準日'] = pd.to_datetime(historical_meisai['基準日'], format='%Y/%m/%d')\n",
    "historical_meisai['発行日'] = pd.to_datetime(historical_meisai['発行日'], format='%Y/%m/%d')\n",
    "historical_meisai['償還日'] = pd.to_datetime(historical_meisai['償還日'], format='%Y/%m/%d')\n",
    "historical_meisai.set_index(['基準日', '銘柄'], inplace=True)\n",
    "\n",
    "# 基準日のリストの抽出\n",
    "eval_dates = historical_meisai.index.get_level_values('基準日').unique()\n",
    "\n",
    "display(historical_meisai)"
   ]
  },
  {
   "cell_type": "markdown",
   "id": "aaeb940d",
   "metadata": {},
   "source": [
    "### 日本国債コンベンションの定義"
   ]
  },
  {
   "cell_type": "code",
   "execution_count": null,
   "id": "14da3f9b",
   "metadata": {},
   "outputs": [],
   "source": [
    "tenor = ql.Period(ql.Semiannual)     # 利払間隔\n",
    "calendar = ql.Japan()                # 休祝日カレンダー\n",
    "convention = ql.ModifiedFollowing    # 営業日調整\n",
    "day_count = ql.Thirty360(convention) # 日数計算\n",
    "rule = ql.DateGeneration.Backward    # 日付生成のルール\n",
    "end_of_month = False                 # 月末日ロール\n",
    "settlemant_days = 1                  # 決済日数"
   ]
  },
  {
   "cell_type": "markdown",
   "id": "3b3f77c4",
   "metadata": {},
   "source": [
    "### 和暦を西暦に変換する関数の定義"
   ]
  },
  {
   "cell_type": "code",
   "execution_count": null,
   "id": "c42f74c7",
   "metadata": {},
   "outputs": [],
   "source": [
    "def convert_japanese_era_to_gregorian(date_str: str) -> str | None:\n",
    "    \"\"\"和暦の日付を西暦に変換する関数\"\"\"\n",
    "    \n",
    "    # 元号と対応する西暦の開始年\n",
    "    era_map: dict[str, int] = {\n",
    "        \"S\": 1925,  # 昭和1年は1926年\n",
    "        \"H\": 1988,  # 平成1年は1989年\n",
    "        \"R\": 2018   # 令和1年は2019年\n",
    "    }\n",
    "\n",
    "    # 正規表現で元号・年・月・日を抽出\n",
    "    match: re.Match | None = re.match(r\"(S|H|R)(\\d+)\\.(\\d+)\\.(\\d+)\", date_str)\n",
    "    \n",
    "    if match:\n",
    "        era: str\n",
    "        year: int\n",
    "        month: int\n",
    "        day: int\n",
    "        \n",
    "        era, year_str, month_str, day_str = match.groups()\n",
    "        year = int(year_str)\n",
    "        month = int(month_str)\n",
    "        day = int(day_str)\n",
    "\n",
    "        # 西暦の計算\n",
    "        gregorian_year: int = era_map[era] + year\n",
    "        \n",
    "        return f\"{gregorian_year}.{month}.{day}\"\n",
    "    \n",
    "    return None  # 変換できない場合"
   ]
  },
  {
   "cell_type": "markdown",
   "id": "f8a22fae",
   "metadata": {},
   "source": [
    "### 年限別の最終利回りデータの読み込み"
   ]
  },
  {
   "cell_type": "code",
   "execution_count": null,
   "id": "99a667bd",
   "metadata": {},
   "outputs": [],
   "source": [
    "historical_ytms = pd.read_csv('Input//jgbcm_all.csv', encoding='shift-jis', header=1)\n",
    "historical_ytms['基準日'] = historical_ytms['基準日'].apply(convert_japanese_era_to_gregorian)\n",
    "historical_ytms['基準日'] = pd.to_datetime(historical_ytms['基準日'], format='%Y.%m.%d')\n",
    "historical_ytms.set_index('基準日', inplace=True)\n",
    "\n",
    "display(historical_ytms)"
   ]
  },
  {
   "cell_type": "markdown",
   "id": "d8d1a0cf",
   "metadata": {},
   "source": [
    "### 各基準日で最終利回りから割引カーブを引いて時価を計算\n",
    "\n",
    "- 基準日についてfor文を展開\n",
    "    - csvファイルから基準日の最終利回りを取得\n",
    "    - 基準日の各年限についてfor文を展開\n",
    "        - 該当年限の代表銘柄について**パー価格を仮定する**ことでFixedRateBondHelperクラスのhelperオブジェクトを構築\n",
    "    - helperのリストからLogLinearで補完した割引カーブを構築\n",
    "    - csvファイルから明細を取得，Bondクラスを作成し時価と修正デュレーションを計算"
   ]
  },
  {
   "cell_type": "code",
   "execution_count": null,
   "id": "3b5fb163",
   "metadata": {},
   "outputs": [],
   "source": [
    "list_meisai = []\n",
    "\n",
    "for eval_date in eval_dates:\n",
    "\n",
    "    # 基準日の最終利回りを取得\n",
    "    rates = historical_ytms.loc[eval_date]\n",
    "    dict_rates = rates.to_dict()\n",
    "    dict_rates = {int(k[:-1]): np.float64(v) for k, v in rates.items()} # 年限を整数に変換し、値をfloat64に変換\n",
    "\n",
    "    # QuantLibに基準日を設定\n",
    "    eval_date_ql = ql.Date.from_date(eval_date)\n",
    "    ql.Settings.instance().evaluationDate = eval_date_ql\n",
    "\n",
    "    helpers = []\n",
    "    for tenor, rate in dict_rates.items():\n",
    "        \n",
    "        # 代表銘柄のCFスケジュールを作成\n",
    "        schedule = ql.Schedule(\n",
    "            eval_date_ql,\n",
    "            calendar.adjust(eval_date_ql + ql.Period(tenor, ql.Years), convention),\n",
    "            ql.Period(ql.Semiannual),  # 支払頻度（半年ごと）\n",
    "            calendar,  # カレンダー（例：ql.Japan()）\n",
    "            convention,  # 調整規則（例：ql.Following）\n",
    "            convention,  # 終了日の調整規則\n",
    "            rule,  # 日付生成ルール\n",
    "            end_of_month  # 月末調整\n",
    "            )\n",
    "\n",
    "        price = 100. # 代表銘柄についてパー価格を仮定\n",
    "        price_quote = ql.SimpleQuote(price)\n",
    "        price_handle = ql.QuoteHandle(price_quote)\n",
    "        \n",
    "        # 債券ヘルパーの作成\n",
    "        helper = ql.FixedRateBondHelper(\n",
    "            price_handle,    # 債券価格\n",
    "            settlemant_days, # 決済日数\n",
    "            100.0,           # 額面\n",
    "            schedule,        # 債券のスケジュール\n",
    "            [rate / 100],    # クーポン率\n",
    "            day_count,       # 日数計算方法\n",
    "        )\n",
    "        helpers.append(helper)\n",
    "    \n",
    "    # 割引カーブの構築\n",
    "    discount_curve = ql.PiecewiseLogLinearDiscount(eval_date_ql, helpers, day_count)\n",
    "    discount_handle = ql.YieldTermStructureHandle(discount_curve)\n",
    "    engine = ql.DiscountingBondEngine(discount_handle)\n",
    "\n",
    "    meisai = historical_meisai.loc[eval_date].copy()\n",
    "    # 各銘柄の時価と修正デュレーションを計算\n",
    "    for _ in range(len(meisai)):\n",
    "        meigara = meisai.iloc[_]\n",
    "        \n",
    "        # 保有債券のCFスケジュールを作成\n",
    "        schedule = ql.Schedule(\n",
    "            ql.Date.from_date(meigara['発行日']),\n",
    "            ql.Date.from_date(meigara['償還日']),\n",
    "            ql.Period(ql.Semiannual),\n",
    "            calendar,\n",
    "            convention,\n",
    "            convention,\n",
    "            rule,\n",
    "            end_of_month\n",
    "            )\n",
    "\n",
    "        # 保有債券の固定利付債券オブジェクトを作成\n",
    "        bond = ql.FixedRateBond(\n",
    "                settlemant_days,\n",
    "                np.float64(meigara['簿価']),         \n",
    "                schedule,\n",
    "                [meigara['利率']],\n",
    "                day_count\n",
    "            )\n",
    "        bond.setPricingEngine(engine)            \n",
    "        meisai.loc[meisai.index[_], '時価'] = bond.NPV()\n",
    "        \n",
    "        # 簿価が0の場合は修正デュレーションを0に設定\n",
    "        if bond.notional() == 0:\n",
    "            meisai.loc[meisai.index[_], '修正デュレーション'] = 0.0\n",
    "        else:\n",
    "           # 経過利息を除いた価格の計算\n",
    "            clean_price = ql.BondPrice(bond.cleanPrice(), ql.BondPrice.Clean)\n",
    "\n",
    "            # 最終利回りの計算\n",
    "            ytm = bond.bondYield(\n",
    "                clean_price,\n",
    "                day_count,\n",
    "                ql.Compounded, \n",
    "                ql.Semiannual\n",
    "            )\n",
    "            # 金利オブジェクトの作成\n",
    "            interest_rate = ql.InterestRate(\n",
    "                ytm,\n",
    "                day_count,\n",
    "                ql.Compounded,\n",
    "                ql.Semiannual\n",
    "            )\n",
    "            # 修正デュレーションの計算\n",
    "            duration = ql.BondFunctions.duration(\n",
    "                bond,\n",
    "                interest_rate,\n",
    "                ql.Duration.Modified\n",
    "            )\n",
    "            meisai.loc[meisai.index[_], '修正デュレーション'] = duration\n",
    "\n",
    "    meisai['基準日'] = eval_date\n",
    "    meisai.set_index('基準日', append=True, inplace=True)\n",
    "    meisai = meisai.swaplevel(0, 1)\n",
    "    list_meisai.append(meisai)"
   ]
  },
  {
   "cell_type": "markdown",
   "id": "e183d90c",
   "metadata": {},
   "source": [
    "参考までに2025年3月31日時点の日本国債の割引カーブをプロットした．"
   ]
  },
  {
   "cell_type": "code",
   "execution_count": null,
   "id": "82812050",
   "metadata": {},
   "outputs": [],
   "source": [
    "dates = discount_curve.dates()\n",
    "discounts = [discount_curve.discount(date) for date in dates]\n",
    "date_labels = [date.to_date() for date in dates]\n",
    "\n",
    "df = pd.DataFrame({\n",
    "    \"Date\": date_labels,\n",
    "    \"Discount\": discounts\n",
    "})\n",
    "display(df)\n",
    "\n",
    "plt.figure(figsize=(4, 3))\n",
    "plt.plot(df[\"Date\"], df[\"Discount\"], marker='o', linestyle='-')\n",
    "plt.title(\"Discount Curve (Piecewise Log Linear)\")\n",
    "plt.xlabel(\"Date\")\n",
    "plt.ylabel(\"Discount Factor\")\n",
    "plt.grid(True)\n",
    "plt.xticks(rotation=45)\n",
    "plt.tight_layout()\n",
    "plt.show()"
   ]
  },
  {
   "cell_type": "markdown",
   "id": "cfa7944e",
   "metadata": {},
   "source": [
    "## ファイルの出力"
   ]
  },
  {
   "cell_type": "code",
   "execution_count": null,
   "id": "ecfba6d3",
   "metadata": {},
   "outputs": [],
   "source": [
    "pd.concat(list_meisai).to_csv('Output//国内債券明細_時価評価.csv', encoding='utf-8')"
   ]
  }
 ],
 "metadata": {
  "kernelspec": {
   "display_name": "Python 3",
   "language": "python",
   "name": "python3"
  },
  "language_info": {
   "codemirror_mode": {
    "name": "ipython",
    "version": 3
   },
   "file_extension": ".py",
   "mimetype": "text/x-python",
   "name": "python",
   "nbconvert_exporter": "python",
   "pygments_lexer": "ipython3",
   "version": "3.12.0"
  }
 },
 "nbformat": 4,
 "nbformat_minor": 5
}
